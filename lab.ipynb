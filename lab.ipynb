{
 "cells": [
  {
   "attachments": {},
   "cell_type": "markdown",
   "metadata": {},
   "source": [
    "# ***Importing needed libs and openning the spreadsheet***"
   ]
  },
  {
   "cell_type": "code",
   "execution_count": null,
   "metadata": {},
   "outputs": [],
   "source": [
    "import pandas as pd\n",
    "import numpy as np\n",
    "file = pd.read_excel(r'C:\\Users\\Victor\\Desktop\\Articles.xlsx')"
   ]
  },
  {
   "attachments": {},
   "cell_type": "markdown",
   "metadata": {},
   "source": [
    "# ***User's inputs to be compared with the data in the spreadsheet***"
   ]
  },
  {
   "cell_type": "code",
   "execution_count": 5,
   "metadata": {},
   "outputs": [],
   "source": [
    "metal_selection = input('Which metal(s) center(s) do you desire? ').split() # type list of str\n",
    "ligand_selection = input('Which ligand(s) do you desire? ').split() # type list of str\n",
    "reaction_selection = input('Which reaction(s) do you desire? ').split() # type list of str\n",
    "journal_selection = input('Which journal(s) do you desire? ').split() # type list of str\n",
    "year_selection = input('Which year(s) of publication do you desire? ').split() # type list of str"
   ]
  },
  {
   "attachments": {},
   "cell_type": "markdown",
   "metadata": {},
   "source": [
    "# ***Formatting and cleaning the user's inputs***"
   ]
  },
  {
   "cell_type": "code",
   "execution_count": null,
   "metadata": {},
   "outputs": [],
   "source": [
    "def cleaning_data(data):\n",
    "    return data.rstrip(\",.;_#!'&?/ºª°\\n\")"
   ]
  },
  {
   "cell_type": "code",
   "execution_count": null,
   "metadata": {},
   "outputs": [],
   "source": [
    "metal_tp = tuple(cleaning_data(metal).capitalize() for metal in metal_selection)\n",
    "ligand_tp = tuple(cleaning_data(ligand).lower() for ligand in ligand_selection)\n",
    "reaction_tp = tuple(cleaning_data(reaction).upper() for reaction in reaction_selection)\n",
    "journal_tp = tuple(cleaning_data(journal).upper() for journal in journal_selection)\n",
    "year_tp = tuple(int(cleaning_data(year)) for year in year_selection)"
   ]
  },
  {
   "cell_type": "code",
   "execution_count": null,
   "metadata": {},
   "outputs": [],
   "source": [
    "print(f''' The metal(s) chosen was/were: {metal_tp}\n",
    "The ligand(s) chosen was/were: {ligand_tp}\n",
    "The reaction(s) chosen was/were: {reaction_tp}\n",
    "The journal(s) chosen was/were: {journal_tp} \n",
    "The year(s) chosen was/were: {year_tp}''')"
   ]
  },
  {
   "attachments": {},
   "cell_type": "markdown",
   "metadata": {},
   "source": [
    "# ***Normalizing the data in the DataFrame***"
   ]
  },
  {
   "cell_type": "code",
   "execution_count": null,
   "metadata": {},
   "outputs": [],
   "source": [
    "file['Link Artigo'].dropna(axis = 0) # cleaning rows that does not have links of articles"
   ]
  },
  {
   "cell_type": "code",
   "execution_count": null,
   "metadata": {},
   "outputs": [],
   "source": [
    "file_metal = tuple(metal.capitalize() for metal in file['Metal'])\n",
    "file['Metal'] = pd.Series(file_metal)"
   ]
  },
  {
   "cell_type": "code",
   "execution_count": null,
   "metadata": {},
   "outputs": [],
   "source": [
    "file_ligand = tuple(str(ligand).lower() for ligand in file['Ligante'])\n",
    "file['Ligante'] = pd.Series(file_ligand)"
   ]
  },
  {
   "cell_type": "code",
   "execution_count": null,
   "metadata": {},
   "outputs": [],
   "source": [
    "file_reaction = tuple(reaction.upper() for reaction in file['Reação'])\n",
    "file['Reação'] = pd.Series(file_reaction)"
   ]
  },
  {
   "cell_type": "code",
   "execution_count": null,
   "metadata": {},
   "outputs": [],
   "source": [
    "file_journal = tuple(journal.upper() for journal in file['Revista'])\n",
    "file['Revista'] = pd.Series(file_journal)"
   ]
  },
  {
   "cell_type": "code",
   "execution_count": null,
   "metadata": {},
   "outputs": [],
   "source": [
    "file_year = tuple(int(year) for year in file['Ano de publicação'])\n",
    "file['Ano de publicação'] = pd.Series(file_year)"
   ]
  },
  {
   "attachments": {},
   "cell_type": "markdown",
   "metadata": {},
   "source": [
    "# ***Searching in the DataFrame the links using user's inputs to filtering***"
   ]
  },
  {
   "cell_type": "code",
   "execution_count": null,
   "metadata": {},
   "outputs": [],
   "source": [
    "def to_filter(subject):\n",
    "    return file['Link Artigo'].loc[file.Metal.isin([subject])]"
   ]
  },
  {
   "cell_type": "code",
   "execution_count": null,
   "metadata": {},
   "outputs": [],
   "source": [
    "metal_serie = pd.Series(metal_tp)\n",
    "metal_filter = to_filter(metal_serie)"
   ]
  },
  {
   "cell_type": "code",
   "execution_count": null,
   "metadata": {},
   "outputs": [],
   "source": [
    "ligand_serie = pd.Series(ligand_tp)\n",
    "ligand_filter = to_filter(ligand_serie)"
   ]
  },
  {
   "cell_type": "code",
   "execution_count": null,
   "metadata": {},
   "outputs": [],
   "source": [
    "reaction_serie = pd.Series(reaction_tp)\n",
    "reaction_filter = to_filter(reaction_serie)"
   ]
  },
  {
   "cell_type": "code",
   "execution_count": null,
   "metadata": {},
   "outputs": [],
   "source": [
    "journal_serie = pd.Series(journal_tp)\n",
    "journal_filter = to_filter(journal_serie)"
   ]
  },
  {
   "cell_type": "code",
   "execution_count": null,
   "metadata": {},
   "outputs": [],
   "source": [
    "year_serie = pd.Series(year_tp)\n",
    "year_filter = to_filter(year_serie)"
   ]
  },
  {
   "attachments": {},
   "cell_type": "markdown",
   "metadata": {},
   "source": [
    "# ***Filtering the data that fit in the user's applied filter previously***"
   ]
  },
  {
   "cell_type": "code",
   "execution_count": null,
   "metadata": {},
   "outputs": [],
   "source": [
    "print(np.intersect1d(year_filter,metal_filter,ligand_filter,journal_filter,reaction_filter),sep='\\n\\n')"
   ]
  }
 ],
 "metadata": {
  "kernelspec": {
   "display_name": "Python 3",
   "language": "python",
   "name": "python3"
  },
  "language_info": {
   "codemirror_mode": {
    "name": "ipython",
    "version": 3
   },
   "file_extension": ".py",
   "mimetype": "text/x-python",
   "name": "python",
   "nbconvert_exporter": "python",
   "pygments_lexer": "ipython3",
   "version": "3.11.0"
  },
  "orig_nbformat": 4,
  "vscode": {
   "interpreter": {
    "hash": "52634da84371cba311ea128a5ea7cdc41ff074b781779e754b270ff9f8153cee"
   }
  }
 },
 "nbformat": 4,
 "nbformat_minor": 2
}
